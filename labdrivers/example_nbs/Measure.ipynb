{
 "cells": [
  {
   "cell_type": "markdown",
   "metadata": {},
   "source": [
    "# Import statements"
   ]
  },
  {
   "cell_type": "code",
   "execution_count": 1,
   "metadata": {},
   "outputs": [],
   "source": [
    "from time import sleep\n",
    "from os.path import exists\n",
    "import matplotlib.pyplot as plt\n",
    "import numpy as np\n",
    "\n",
    "from IPython import display\n",
    "\n",
    "from labdrivers.srs import sr830\n",
    "from labdrivers.keithley import keithley2400\n",
    "from labdrivers.ni import nidaq\n",
    "\n",
    "%matplotlib inline"
   ]
  },
  {
   "cell_type": "markdown",
   "metadata": {},
   "source": [
    "# Experimental parameters"
   ]
  },
  {
   "cell_type": "code",
   "execution_count": 2,
   "metadata": {},
   "outputs": [],
   "source": [
    "ac_div = 1062.7 * 10\n",
    "dc_div = 533.9\n",
    "preamp_sensitivity = 1e-6\n",
    "line_resistance = 4000\n",
    "\n",
    "quantum_g = 7.748091723083037e-05"
   ]
  },
  {
   "cell_type": "markdown",
   "metadata": {},
   "source": [
    "# Calculators for values to use in bias/gate\n",
    "\n",
    "Need to figure out what numbers to use as the min and max? Type the amount of whatever unit you'd like to apply across the device under test, and you should see how much you should use for ```(whatever)_min``` and ```(whatever)_max```."
   ]
  },
  {
   "cell_type": "code",
   "execution_count": 7,
   "metadata": {},
   "outputs": [
    {
     "name": "stdout",
     "output_type": "stream",
     "text": [
      "Start: -0.021254\n",
      "Finish: 0.021254\n"
     ]
    }
   ],
   "source": [
    "desired_start = -2e-6\n",
    "desired_finish = 2e-6\n",
    "\n",
    "divider = ac_div\n",
    "\n",
    "print('Start: {}'.format(desired_start * divider))\n",
    "print('Finish: {}'.format(desired_finish * divider))"
   ]
  },
  {
   "cell_type": "markdown",
   "metadata": {},
   "source": [
    "# Instrument setup"
   ]
  },
  {
   "cell_type": "markdown",
   "metadata": {},
   "source": [
    "## Lock-In"
   ]
  },
  {
   "cell_type": "code",
   "execution_count": 3,
   "metadata": {},
   "outputs": [],
   "source": [
    "lockin = sr830(8)\n",
    "lockin.enable_remote()\n",
    "\n",
    "lockin.frequency = 84.41\n",
    "lockin.input = 1\n",
    "lockin.amplitude = 1"
   ]
  },
  {
   "cell_type": "markdown",
   "metadata": {},
   "source": [
    "## DAQ"
   ]
  },
  {
   "cell_type": "code",
   "execution_count": 4,
   "metadata": {},
   "outputs": [],
   "source": [
    "bias = nidaq()"
   ]
  },
  {
   "cell_type": "markdown",
   "metadata": {},
   "source": [
    "## Gate"
   ]
  },
  {
   "cell_type": "code",
   "execution_count": 5,
   "metadata": {},
   "outputs": [],
   "source": [
    "gate = keithley2400(22)\n",
    "gate.enable_remote()\n",
    "\n",
    "gate.source_type = 'voltage'\n",
    "gate.source_mode = 'fixed'\n",
    "\n",
    "gate.current_compliance = 2e-6\n",
    "\n",
    "gate.measure_type = 'resistance'\n",
    "gate.resistance_ohms_mode = 'manual'"
   ]
  },
  {
   "cell_type": "markdown",
   "metadata": {},
   "source": [
    "# Experiments"
   ]
  },
  {
   "cell_type": "markdown",
   "metadata": {},
   "source": [
    "### Bias parameters"
   ]
  },
  {
   "cell_type": "code",
   "execution_count": 15,
   "metadata": {},
   "outputs": [],
   "source": [
    "bias_min = -1\n",
    "bias_max = 1\n",
    "num_data_points = 3\n",
    "\n",
    "bias_voltages = np.linspace(start=bias_min, stop=bias_max, num=num_data_points)"
   ]
  },
  {
   "cell_type": "markdown",
   "metadata": {},
   "source": [
    "### Gate parameters"
   ]
  },
  {
   "cell_type": "code",
   "execution_count": 16,
   "metadata": {},
   "outputs": [],
   "source": [
    "gate_min = 0\n",
    "gate_max = 1\n",
    "num_data_points = 10\n",
    "\n",
    "gate_voltages = np.linspace(start=gate_min, stop=gate_max, num=num_data_points)"
   ]
  },
  {
   "cell_type": "markdown",
   "metadata": {},
   "source": [
    "## Bias sweep"
   ]
  },
  {
   "cell_type": "code",
   "execution_count": 10,
   "metadata": {},
   "outputs": [
    {
     "name": "stdout",
     "output_type": "stream",
     "text": [
      "Replace file? y\n",
      "Overwriting \"test_sweep.txt\".\n"
     ]
    }
   ],
   "source": [
    "file_name = 'test_sweep.txt'\n",
    "comments = '''(insert comment here)'''\n",
    "\n",
    "if exists(file_name):\n",
    "    if str(input('Replace file? ')) == 'y':\n",
    "        print('Overwriting \"{}\".'.format(file_name))\n",
    "        \n",
    "with open(file_name, 'w') as f:\n",
    "\n",
    "    f.write('Comments\\n')\n",
    "    f.write('{}\\n'.format(comments))\n",
    "    f.write('bias_voltage,dI,dV,line+device_dI/dV,device_dI/dV\\n')\n",
    "    f.write('V,A,V,S,2e^2/h\\n')"
   ]
  },
  {
   "cell_type": "code",
   "execution_count": 11,
   "metadata": {},
   "outputs": [
    {
     "data": {
      "image/png": "[encoded data removed]",
      "text/plain": [
       "<Figure size 432x288 with 1 Axes>"
      ]
     },
     "metadata": {},
     "output_type": "display_data"
    }
   ],
   "source": [
    "# Initialize the bias then wait for the device to respond and settle\n",
    "bias.channel = 'ao1'\n",
    "bias.output_voltage(bias_voltages[0])\n",
    "sleep(4)\n",
    "\n",
    "x = np.array([])\n",
    "y = np.array([])\n",
    "\n",
    "for bv in bias_voltages:\n",
    "\n",
    "    bias.output_voltage(bv)\n",
    "    sleep(0)\n",
    "\n",
    "    current = lockin.single_output(1)[0] * preamp_sensitivity\n",
    "    conductance = current / (lockin.amplitude / ac_div - current * line_resistance) / quantum_g\n",
    "\n",
    "    x = np.append(x,bv)\n",
    "    y = np.append(y,conductance)\n",
    "    \n",
    "    # Real-time plotting\n",
    "    plt.clf()\n",
    "    plt.plot(x,y,'r-o')\n",
    "    display.display(plt.gcf())\n",
    "    display.clear_output(wait=True)\n",
    "    \n",
    "    with open(file_name, 'a') as f:\n",
    "        f.write('{},{},{},{},{}\\n'.format(-bv / dc_div, current, lockin.amplitude / ac_div, current / (lockin.amplitude / ac_div), conductance))\n",
    "\n"
   ]
  },
  {
   "cell_type": "markdown",
   "metadata": {},
   "source": [
    "## 2D Gate-Bias Sweep"
   ]
  },
  {
   "cell_type": "code",
   "execution_count": 18,
   "metadata": {},
   "outputs": [
    {
     "name": "stdout",
     "output_type": "stream",
     "text": [
      "Replace file? y\n",
      "Overwriting \"test_sweep.txt\".\n"
     ]
    }
   ],
   "source": [
    "file_name = 'test_sweep.txt'\n",
    "comments = '''(insert comment here)'''\n",
    "\n",
    "if exists(file_name):\n",
    "    if str(input('Replace file? ')) == 'y':\n",
    "        print('Overwriting \"{}\".'.format(file_name))\n",
    "        \n",
    "with open(file_name, 'w') as f:\n",
    "\n",
    "    f.write('Comments\\n')\n",
    "    f.write('{}\\n'.format(comments))\n",
    "    f.write('bias,gate,dI,dV,line+device_dI/dV,device_dI/dV\\n')\n",
    "    f.write('V,V,A,V,S,2e^2/h\\n')"
   ]
  },
  {
   "cell_type": "code",
   "execution_count": 19,
   "metadata": {
    "scrolled": true
   },
   "outputs": [
    {
     "data": {
      "image/png": "[encoded data removed]",
      "text/plain": [
       "<Figure size 432x288 with 1 Axes>"
      ]
     },
     "metadata": {},
     "output_type": "display_data"
    }
   ],
   "source": [
    "gate.output = 1\n",
    "gate.source_type = 'voltage'\n",
    "\n",
    "for gv in gate_voltages:\n",
    "\n",
    "    # set gate and let settle\n",
    "\n",
    "    gate.source_value = gv\n",
    "\n",
    "    bias.channel = 'ao1'\n",
    "    bias.output_voltage(bias_voltages[0])\n",
    "\n",
    "    sleep(3)\n",
    "\n",
    "    x = np.array([])\n",
    "    y = np.array([])\n",
    "\n",
    "    for bv in bias_voltages:\n",
    "\n",
    "        bias.output_voltage(bv)\n",
    "        sleep(0.9)\n",
    "\n",
    "        current = lockin.single_output(1)[0] * preamp_sensitivity\n",
    "        line_voltage = lockin.amplitude / ac_div\n",
    "        line_conductance = current / line_voltage\n",
    "        conductance = current / (line_voltage - current * line_resistance) / quantum_g\n",
    "\n",
    "        x = np.append(x,bv)\n",
    "        y = np.append(y,conductance)\n",
    "        \n",
    "        # Real-time plotting\n",
    "        plt.clf()\n",
    "        plt.plot(x,y,'r-o')\n",
    "        display.display(plt.gcf())\n",
    "        display.clear_output(wait=True)\n",
    "\n",
    "        with open(file_name, 'a') as f:\n",
    "            f.write('{},{},{},{},{},{}\\n'.format(gv, -bv / dc_div, current, line_voltage, line_conductance, conductance))"
   ]
  },
  {
   "cell_type": "markdown",
   "metadata": {},
   "source": [
    "## Gate Sweep"
   ]
  },
  {
   "cell_type": "code",
   "execution_count": 21,
   "metadata": {},
   "outputs": [
    {
     "data": {
      "image/png": "[encoded data removed]",
      "text/plain": [
       "<Figure size 432x288 with 1 Axes>"
      ]
     },
     "metadata": {},
     "output_type": "display_data"
    }
   ],
   "source": [
    "gate.output = 1\n",
    "gate.source_type = 'voltage'\n",
    "\n",
    "x = np.array([])\n",
    "y = np.array([])\n",
    "\n",
    "for gv in gate_voltages:\n",
    "    \n",
    "    gate.source_value = gv\n",
    "    \n",
    "    sleep(2)\n",
    "    \n",
    "    current = lockin.single_output(1)[0] * preamp_sensitivity\n",
    "    line_voltage = lockin.amplitude / ac_div\n",
    "    line_conductance = current / line_voltage\n",
    "    conductance = current / (line_voltage - current * line_resistance) / quantum_g\n",
    "\n",
    "    x = np.append(x,gv)\n",
    "    y = np.append(y,conductance)\n",
    "\n",
    "    # Real-time plotting\n",
    "    plt.clf()\n",
    "    plt.xlabel('Gate Voltage (V)')\n",
    "    plt.ylabel('Conductance (2e^2/h)')\n",
    "    plt.plot(x,y,'r-o')\n",
    "    display.display(plt.gcf())\n",
    "    display.clear_output(wait=True)\n",
    "\n",
    "    with open(file_name, 'a') as f:\n",
    "        f.write('{},{},{},{},{}\\n'.format(gv, current, line_voltage, line_conductance, conductance))"
   ]
  },
  {
   "cell_type": "code",
   "execution_count": null,
   "metadata": {},
   "outputs": [],
   "source": []
  }
 ],
 "metadata": {
  "kernelspec": {
   "display_name": "Python 3",
   "language": "python",
   "name": "python3"
  },
  "language_info": {
   "codemirror_mode": {
    "name": "ipython",
    "version": 3
   },
   "file_extension": ".py",
   "mimetype": "text/x-python",
   "name": "python",
   "nbconvert_exporter": "python",
   "pygments_lexer": "ipython3",
   "version": "3.6.5"
  }
 },
 "nbformat": 4,
 "nbformat_minor": 2
}
