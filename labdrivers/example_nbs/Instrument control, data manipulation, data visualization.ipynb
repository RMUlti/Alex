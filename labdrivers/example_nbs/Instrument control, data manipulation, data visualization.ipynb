{
 "cells": [
  {
   "cell_type": "markdown",
   "metadata": {},
   "source": [
    "# Introduction\n",
    "\n",
    "*Notebook author and repo contributor*: Jeff Damasco\n",
    "\n",
    "*Repo creator and contributor*: Hank Hinnefeld\n",
    "\n",
    "Hank has a couple examples on how to use his drivers, so you should look at those too. There are a couple of concepts that are not mentioned, like the use of object-oriented programming and the importation of various modules. I'll do my best to explain things further so that you understand just enough of the why; if there is something that is not clear, please let me know so I can improve this document.\n",
    "\n",
    "# Purpose\n",
    "\n",
    "In general, writing/typing out a complex program is much easier to read than decoding literal spaghetti code, which easily occurs in LabVIEW. There is also, of course, the issue of needing to buy and upgrade LabVIEW every year. The former is not typically a huge issue, though the latter becomes annoying when programs need to be updated yearly to stay compatible. Thankfully, Python does not need to be upgraded in the same way, and the upgrades that do occur typically will not affect the syntax.\n",
    "\n",
    "I'm hoping that this will make data acquisition, manipulation, and presentation/visualization a lot more transparent to the laboratory. There is still a lot of work to be done to control all of the instruments (like the magnet power supplies and temperature controllers), but for the most part, being able to control voltages & currents to obtain transport data should be well within the scope of these programs.\n",
    "\n",
    "# Requirements\n",
    "\n",
    "Here I'll be using: https://github.com/masonlab/labdrivers (originally written entirely by Hank Hinnefeld).\n",
    "\n",
    "Here are drivers external to Python that we need:\n",
    "\n",
    "1. NI VISA\n",
    "\n",
    "2. NI DAQmx\n",
    "\n",
    "The `VISA` driver allows the computer to talk to instruments with GPIB. This should be ready to go for `Python 2.x` and `Python 3.x`.\n",
    "\n",
    "The `DAQmx` driver allows the computer to talk with the National Instruments DAQ. This should also be ready to go for `Python 2.x` and `Python 3.x`. But be warned that the documentation for DAQmx suggest buil\n",
    "\n",
    "Here, the main objective of Python is to act as another level of communication so that we can utilize the drivers to control the instruments.\n",
    "\n",
    "# Contributing\n",
    "\n",
    "If you would like to contribute to the repo, you can send a pull request. This is particularly helpful if you want to build a wrapper class for a new instrument or if you want to modify features from an already-made class.\n",
    "\n",
    "If you don't feel skilled enough but still feel that you want to contribute, be on the lookout for bugs. There are a couple types to look out for:\n",
    "\n",
    "**Compile-time errors** are simply errors where the script stops running because of bad input or because something was the wrong type or size (among many other problems!).\n",
    "\n",
    "*N.b. technically Python doesn't compile, it interprets. However, there might be some Python functions that wrap C code, and C is a compiler language.*\n",
    "\n",
    "**Runtime errors** are when the script runs, but the output is not what you would expect. For example, if I expect that an IV-curve gives a linearly dependent and non-zero plot, but all the outputs are zero, there might be something in the script which was coded incorrectly yet stil within the bounds of what is acceptable to the interpreter.\n",
    "\n",
    "If you find any of these problems, please let someone who is in charge of the repository know so that they can fix it, or create a GitHub account yourself and raise the issue on the repository page: https://github.com/masonlab/labdrivers/issues.\n",
    "\n",
    "# An in-depth guide to controlling the instrument\n",
    "\n",
    "What we are doing here is equivalent to finding the libraries of various instruments like the SR830 lock-in amplifier, Keithley 2400 sourcemeter, etc. I will use the SR830 module as an example.\n",
    "\n",
    "Important note: the notebook is written with the assumption that the file is in the root directory of labdrivers, or that labdrivers is accessible via the Python27 directory.\n",
    "\n",
    "The workflow here is as follows:\n",
    "\n",
    "#### From the module, import the constructor"
   ]
  },
  {
   "cell_type": "code",
   "execution_count": 1,
   "metadata": {
    "collapsed": true
   },
   "outputs": [],
   "source": [
    "from labdrivers.srs import sr830"
   ]
  },
  {
   "cell_type": "markdown",
   "metadata": {},
   "source": [
    "To explain this line of code, consider the structure of the labdrivers directory:\n",
    "\n",
    "```\n",
    "labdrivers\n",
    "|\n",
    "|--- docs\n",
    "|--- example_nbs\n",
    "+--- labdrivers\n",
    "     |\n",
    "     |--- keithley\n",
    "     |--- ni\n",
    "     |--- oxford\n",
    "     |--- quantum design\n",
    "     +--- srs\n",
    "          |\n",
    "          |--- __init__.py\n",
    "          |--- sr560.py\n",
    "          +--- sr830.py\n",
    "```\n",
    "\n",
    "`from labdrivers.srs` tells Python to search in `labdrivers/srs`, where the slash that separates the directories is simply replaced by the dot. The details about why we can do this are not important.\n",
    "\n",
    "*N.b. If you're particularly observant, you'll see that `labdrivers` actually sits in another directory `labdrivers`. The reason why we don't call upon the first one is because this notebook lives in the top-most `labdrivers`, so `labdrivers.srs` is called from the perspective of the notebook.*\n",
    "\n",
    "`import sr830` tells Python to import the class sr830.\n",
    "\n",
    "#### Given the GPIB address, instantiate a SR830 object"
   ]
  },
  {
   "cell_type": "code",
   "execution_count": 2,
   "metadata": {
    "collapsed": true
   },
   "outputs": [],
   "source": [
    "sr830_gpib_address = 8\n",
    "\n",
    "lock_in = sr830(sr830_gpib_address)"
   ]
  },
  {
   "cell_type": "markdown",
   "metadata": {
    "collapsed": true
   },
   "source": [
    "The GPIB address is something you set on the machine. Make sure this is identical or else your program will not work.\n",
    "\n",
    "`lock_in` is simply an instance of the sr830 class (the lingo in object-oriented programming is that you \"instantiate an `sr830` object\") and you can call it whatever you like. In the example, `lock_in` connects to the SR830 that has the address `8`. In principle, if you have multiple instruments, you only need to import the module once, and you can create as many instances as you need to, for example:\n",
    "\n",
    "```python\n",
    "from labdrivers.srs import sr830\n",
    "\n",
    "lock_in_A = sr830(8)\n",
    "lock_in_B = sr830(9)\n",
    "```\n",
    "\n",
    "#### Set up the instrument with whatever parameters you need"
   ]
  },
  {
   "cell_type": "code",
   "execution_count": 6,
   "metadata": {
    "collapsed": true
   },
   "outputs": [],
   "source": [
    "lock_in.setFrequency(137.9)\n",
    "lock_in.setAmplitude(0.05)\n",
    "lock_in.setInput(0) # corresponds to 'A' input\n",
    "lock_in.setTimeConst(9) # corresponds to 300 ms"
   ]
  },
  {
   "cell_type": "markdown",
   "metadata": {},
   "source": [
    "Each instance of an instrument has a unique set of functions associated with it, so you should look at the various files in `labdrivers/labdrivers` so that you can see how exactly to use them.\n",
    "\n",
    "As you would expect of the lock-in amplifier, you (as the experimentalist) should be able to set the amplifier's frequency, its voltage output, and determine how you would like it to take inputs. The dot notation (e.g. `lock_in[dot]setFrequency(137.9)`) tells the object that I called \"`lock_in`\" to use the function that follows the dot. The `setFrequency` method also takes in a value, which is the frequency (in Hertz) that you would typically set by hand. There should be a wide variety of functions (the obviously-named \"getters\" and \"setters\") to help control your instrument; these functions are found in the class definitions.\n",
    "\n",
    "Back to the example. The numbers in the frequency and amplitude setters are more or less obvious. The frequency is set in Hertz, and the amplitude refers to the output voltage amplitude, which is in Volts.\n",
    "\n",
    "However, some of the parameters are not entirely obvious, and so you should look through the Python file (for the SR830: https://github.com/masonlab/labdrivers/blob/master/labdrivers/srs/sr830.py) to figure out if some parameters are coded, like in the time constants. Also note that for all of these parameters, you must know the units of your inputs so that you can properly interpret the data!\n",
    "\n",
    "If you need to investigate the inner workings of other instrument modules, you should be able to look through the directory and find the proper class file.\n",
    "\n",
    "#### Take a piece of data"
   ]
  },
  {
   "cell_type": "code",
   "execution_count": 7,
   "metadata": {
    "collapsed": true
   },
   "outputs": [],
   "source": [
    "x_data = lock_in.getSinglePoint(1)\n",
    "theta_data = lock_in.getSinglePoint(4)"
   ]
  },
  {
   "cell_type": "markdown",
   "metadata": {},
   "source": [
    "Here are a couple more examples of a defined instance of an `sr830` object using a function to perform an action. In this case, the action is to obtain some output data. The parameters can be found in the class file, of course, but to avoid the need of looking it up, the `1` input indicates you want to observe the `X` output of the data, whereas the `4` input indicates you want to observe the `Theta` output of the data."
   ]
  },
  {
   "cell_type": "markdown",
   "metadata": {},
   "source": [
    "# Data storage and manipulation\n",
    "\n",
    "Here is a small walkthrough on how to use the pandas package for creating and modifying data tables.\n",
    "\n",
    "#### Importing some critical libraries"
   ]
  },
  {
   "cell_type": "code",
   "execution_count": 2,
   "metadata": {
    "collapsed": true
   },
   "outputs": [],
   "source": [
    "import pandas as pd\n",
    "import numpy as np\n",
    "from __future__ import division"
   ]
  },
  {
   "cell_type": "markdown",
   "metadata": {},
   "source": [
    "Some notes:\n",
    "\n",
    "1. The first two lines are import statements without `from`s. The previous `import` statements were used in conjunction with a `from` statement, but this is something that is a bit out of the scope of this notebook. You can ask me if you're curious, though.\n",
    "\n",
    "2. On the first two lines, I create commonly accepted aliases for `pandas` and `numpy`. While it is completely fine to write out `pandas.something` or `numpy.something` every time, it can get annoying, so to increase readability of your code and to save a miniscule amount of time, it is common to write out `pd.something` or `np.something` instead.\n",
    "\n",
    "3. Line 3 is not necessary, but I will explain why I imported these. The `__future__` module brings `Python 3.x` functionality to `Python 2.7.x`. In short, `Python 3.x` scripts treat division true division instead of a floor function.\n",
    "\n",
    "I'm going to begin by establishing a pandas DataFrame instance, which is where all the data will come from."
   ]
  },
  {
   "cell_type": "code",
   "execution_count": 32,
   "metadata": {
    "collapsed": true
   },
   "outputs": [],
   "source": [
    "columns = ['Gate Voltage (V)','Bias Voltage (mV)','dI/dV (2e^2/h)']\n",
    "data = pd.DataFrame(columns=columns)"
   ]
  },
  {
   "cell_type": "markdown",
   "metadata": {},
   "source": [
    "I created a list of columns knowing what exactly I want to have in my data set. I will have two inputs, the gate voltage and bias voltage, and I expect that I'll have the differential conductance (dI/dV) as the data I'm measuring.\n",
    "\n",
    "Let's suppose that I have a new row in my data that describes the differential conductance when the gate voltage is -5.35 V and the voltage bias across the sample is 2.45 mV. And let's suppose that the measurement was found to yield 0.7 $2e^2/h$ of conductance. I'm going to create a new record as a DataFrame for reasons that will be slightly more obvious very soon."
   ]
  },
  {
   "cell_type": "code",
   "execution_count": 33,
   "metadata": {
    "collapsed": true
   },
   "outputs": [],
   "source": [
    "new_record = pd.DataFrame(np.array([[-5.35, 2.45, 0.7]]),\n",
    "                         columns=columns)"
   ]
  },
  {
   "cell_type": "markdown",
   "metadata": {},
   "source": [
    "*N.b. if you have pieces of data you recorded, like in the `x_data` or `theta_data` examples above, you should write those in place of the numbers above.*\n",
    "\n",
    "Note here the use of `np.array([[-5.35, 2.45, 0.7]])`. In general you will want to create data records like this because it is the only way that a `pandas.DataFrame` object can take in new data. What that line of code actually means is that you have a tensor that is of size `(3,1)`. The inner `list` of `[-5.35, 2.45, 0.7]` represents a row in a matrix. The matrix is defined when you surround that list of numbers with another set of square brackets: `[[-5.35, 2.45, 0.7]]`. And finally, to complete its transformation into something usable by the `pandas.DataFrame`, you need to surround that matrix with `np.array(...)`.\n",
    "\n",
    "The `new_record` also contains an entry for the columns in the `DataFrame` that is exactly the same as the main data set `data`, guaranteeing compatibility upon record appendage.\n",
    "\n",
    "Prior to adding in a new record, the data table looks like this:"
   ]
  },
  {
   "cell_type": "code",
   "execution_count": 34,
   "metadata": {
    "collapsed": false
   },
   "outputs": [
    {
     "data": {
      "text/html": [
       "<div>\n",
       "<table border=\"1\" class=\"dataframe\">\n",
       "  <thead>\n",
       "    <tr style=\"text-align: right;\">\n",
       "      <th></th>\n",
       "      <th>Gate Voltage (V)</th>\n",
       "      <th>Bias Voltage (mV)</th>\n",
       "      <th>dI/dV (2e^2/h)</th>\n",
       "    </tr>\n",
       "  </thead>\n",
       "  <tbody>\n",
       "  </tbody>\n",
       "</table>\n",
       "</div>"
      ],
      "text/plain": [
       "Empty DataFrame\n",
       "Columns: [Gate Voltage (V), Bias Voltage (mV), dI/dV (2e^2/h)]\n",
       "Index: []"
      ]
     },
     "execution_count": 34,
     "metadata": {},
     "output_type": "execute_result"
    }
   ],
   "source": [
    "data.head()"
   ]
  },
  {
   "cell_type": "markdown",
   "metadata": {},
   "source": [
    "`head` is a function which allows you to check out the first 10 rows of a table. You can actually specify the amount of rows as an argument, but remember that you can only see so much on the output on a notebook or in the console\n",
    "\n",
    "Here's how to insert a new record:"
   ]
  },
  {
   "cell_type": "code",
   "execution_count": 35,
   "metadata": {
    "collapsed": true
   },
   "outputs": [],
   "source": [
    "data = data.append(new_record, ignore_index=True)"
   ]
  },
  {
   "cell_type": "markdown",
   "metadata": {},
   "source": [
    "The `append` method merely outputs a new DataFrame object, but it does not immediately replace the original. Thus, you must set the DataFrame of your data set to be the output of the appending method. This method takes the following arguments: another DataFrame and whether or not the DataFrame ignores the differences in indices between the DataFrame to be appended and the DataFrame that is appending.\n",
    "\n",
    "Here we assume that the data to append `new_record` already has the same columns as the data set `data`. If not, then you may have records with `NaN` values, and you will require some extra post-processing.\n",
    "\n",
    "The effect of the `ignore_index` being set to `True` is not obvious here, but consider the case when the data set `data` has `n` rows; `data` will have indices `0, 1, ... , n`, and appending without ignoring the index will force `data` to have indices `0, 1, ..., n, 0`. In practice, this actually will not affect much, but if you are, for whatever reason, performing data operations that call by the index location, then you might run into a runtime error or a 'compile time' error (noting that Python doesn't actually compile; it interprets). As a suggestion, try to keep data organized and ignore the indices of new records.\n",
    "\n",
    "That said, here is what the data set `data` looks like after appending a new record:"
   ]
  },
  {
   "cell_type": "code",
   "execution_count": 36,
   "metadata": {
    "collapsed": false
   },
   "outputs": [
    {
     "data": {
      "text/html": [
       "<div>\n",
       "<table border=\"1\" class=\"dataframe\">\n",
       "  <thead>\n",
       "    <tr style=\"text-align: right;\">\n",
       "      <th></th>\n",
       "      <th>Gate Voltage (V)</th>\n",
       "      <th>Bias Voltage (mV)</th>\n",
       "      <th>dI/dV (2e^2/h)</th>\n",
       "    </tr>\n",
       "  </thead>\n",
       "  <tbody>\n",
       "    <tr>\n",
       "      <th>0</th>\n",
       "      <td>-5.35</td>\n",
       "      <td>2.45</td>\n",
       "      <td>0.7</td>\n",
       "    </tr>\n",
       "  </tbody>\n",
       "</table>\n",
       "</div>"
      ],
      "text/plain": [
       "   Gate Voltage (V)  Bias Voltage (mV)  dI/dV (2e^2/h)\n",
       "0             -5.35               2.45             0.7"
      ]
     },
     "execution_count": 36,
     "metadata": {},
     "output_type": "execute_result"
    }
   ],
   "source": [
    "data.head()"
   ]
  },
  {
   "cell_type": "markdown",
   "metadata": {},
   "source": [
    "After you gather all of your data, then you may output the file. Typically the files will be in a comma-separated value (CSV) format, but there are other file types that you could choose from (refer to the Pandas documentation).\n",
    "\n",
    "Here's how to do it:"
   ]
  },
  {
   "cell_type": "code",
   "execution_count": null,
   "metadata": {
    "collapsed": true
   },
   "outputs": [],
   "source": [
    "data.to_csv('output_path.csv', sep='\\t', index=False)"
   ]
  },
  {
   "cell_type": "markdown",
   "metadata": {},
   "source": [
    "Here I am not changing the structure of the `data` table, so I do not need to write `data = data.to_csv...`. Instead, consider this as the `data` table copying its contents into a file. In this example, only the file name is given, meaning that the file will be called `output_path.csv` and will be placed in the same directory as this notebook. The parameter `sep` specifies the type of separation that will exist between entries, and the parameter `index` specifies if the indices on the DataFrame should be output as a column with the expected data. For our purposes that is generally undesired (unless you would like to follow the order of data acquisition) so that is set to `False`.\n",
    "\n",
    "# Automating data acquisition\n",
    "\n",
    "Knowing all of this information, you should be able to automate data acquisition with typical flow control elements:\n",
    "\n",
    "* `for`\n",
    "* `while`\n",
    "\n",
    "The documentation for these two flow control statements are easily searchable and will not be covered here, but note that how you want to control when to exit a loop is completely up to you. To wit, `for` is usually used when you have a very specific range of values that you must loop over. On the other hand, `while` is typically suited for applications where you are waiting for a certain condition (e.g. when the resistance reaches zero, when the conductance is one quantum of conductance, etc.).\n",
    "\n",
    "#### When to output data\n",
    "\n",
    "If you would like to output data as one large mass, that should be done after and outside the flow control loop of choice. However, the main disadvantage here is that if you interrupt the program, you lose the chance to save your data. Thus, it's typically a better choice to output data after each loop iteration. Considering that, you might want to think about using the `with...as...` format, as that is usually faster than using `df.to_csv`. If you consider the number of records in your data, if you have an extremely large data set, then each time that you call `df.to_csv` will be more than the previous time, and that is actually quite inefficient. The preferred method is described in the next subsection.\n",
    "\n",
    "#### with...as...\n",
    "\n",
    "Here we import another future module:"
   ]
  },
  {
   "cell_type": "code",
   "execution_count": 38,
   "metadata": {
    "collapsed": true
   },
   "outputs": [],
   "source": [
    "from __future__ import with_statement"
   ]
  },
  {
   "cell_type": "markdown",
   "metadata": {},
   "source": [
    "I won't go in-depth about the internal structure (i.e. the \"how\") of the `with` statement, but basically it allows for the setting up and tearing down of something even if the contents of the `with` statement do not necessarily work. Of course this raises the question of what exactly goes in the `with` statement. For us, it is placing the data in the file. The file is the thing that we will be setting up and tearing down (mentioned a couple sentences ago).\n",
    "\n",
    "Here is an example of how it works:"
   ]
  },
  {
   "cell_type": "code",
   "execution_count": null,
   "metadata": {
    "collapsed": true
   },
   "outputs": [],
   "source": [
    "with open('conductance_list.txt') as f:\n",
    "    \n",
    "    for voltage in gate_voltage:\n",
    "        \n",
    "        lockin_v = lockin.getSinglePoint(1)\n",
    "        conductance = calculate_conductance(lockin_v)\n",
    "        f.write(str(voltage) + ',' + str(conductance))"
   ]
  },
  {
   "cell_type": "markdown",
   "metadata": {},
   "source": [
    "Translating into English, this reads:\n",
    "\n",
    "1. We open a file called `conductance_list.txt` and alias it as `f`\n",
    "\n",
    "2. For every value (which we call the variable `voltage`) in the list called `gate_voltage`, perform the following:\n",
    "\n",
    "    * Get the voltage from the lock-in amplifier object\n",
    "    \n",
    "    * Calculate the sample conductance based on that voltage\n",
    "    \n",
    "    * Write a line in the file `f` that contains the current gate voltage value and the calculated conductance, separated by a comma"
   ]
  },
  {
   "cell_type": "markdown",
   "metadata": {},
   "source": [
    "# Mapping out data\n",
    "\n",
    "The important modules here are:"
   ]
  },
  {
   "cell_type": "code",
   "execution_count": 1,
   "metadata": {
    "collapsed": false
   },
   "outputs": [
    {
     "name": "stderr",
     "output_type": "stream",
     "text": [
      "C:\\Anaconda3\\lib\\site-packages\\matplotlib\\__init__.py:872: UserWarning: axes.color_cycle is deprecated and replaced with axes.prop_cycle; please use the latter.\n",
      "  warnings.warn(self.msg_depr % (key, alt_key))\n"
     ]
    }
   ],
   "source": [
    "import matplotlib.pyplot as plt\n",
    "import math\n",
    "import seaborn as sns\n",
    "%matplotlib inline"
   ]
  },
  {
   "cell_type": "markdown",
   "metadata": {},
   "source": [
    "The `pyplot` module aids in plotting data.\n",
    "\n",
    "The `math` module is here to assist in some mathematical functions. In principle we could just use numpy, but it's a bit overpowered for looking at a single element.\n",
    "\n",
    "The `seaborn` module is an extension of the functionality of `matplotlib` and is generally helpful in creating nice data visualizations without much effort on the user's part.\n",
    "\n",
    "The `%matplotlib inline` line allows us to see the resultant plot in a notebook, though typically you would write a script which would explicitly tell the interpreter to `show()` the plot or or output the plot to a file.\n",
    "\n",
    "I will generate some data to show an example. I'll make up some data:"
   ]
  },
  {
   "cell_type": "code",
   "execution_count": 51,
   "metadata": {
    "collapsed": false
   },
   "outputs": [
    {
     "data": {
      "text/html": [
       "<div>\n",
       "<table border=\"1\" class=\"dataframe\">\n",
       "  <thead>\n",
       "    <tr style=\"text-align: right;\">\n",
       "      <th></th>\n",
       "      <th>gate_voltage</th>\n",
       "      <th>bias_voltage</th>\n",
       "      <th>conductance</th>\n",
       "    </tr>\n",
       "  </thead>\n",
       "  <tbody>\n",
       "    <tr>\n",
       "      <th>0</th>\n",
       "      <td>-5.0</td>\n",
       "      <td>-5.0</td>\n",
       "      <td>1.0</td>\n",
       "    </tr>\n",
       "    <tr>\n",
       "      <th>0</th>\n",
       "      <td>-5.0</td>\n",
       "      <td>-4.0</td>\n",
       "      <td>1.0</td>\n",
       "    </tr>\n",
       "    <tr>\n",
       "      <th>0</th>\n",
       "      <td>-5.0</td>\n",
       "      <td>-3.0</td>\n",
       "      <td>1.0</td>\n",
       "    </tr>\n",
       "    <tr>\n",
       "      <th>0</th>\n",
       "      <td>-5.0</td>\n",
       "      <td>-2.0</td>\n",
       "      <td>1.0</td>\n",
       "    </tr>\n",
       "    <tr>\n",
       "      <th>0</th>\n",
       "      <td>-5.0</td>\n",
       "      <td>-1.0</td>\n",
       "      <td>1.0</td>\n",
       "    </tr>\n",
       "  </tbody>\n",
       "</table>\n",
       "</div>"
      ],
      "text/plain": [
       "   gate_voltage  bias_voltage  conductance\n",
       "0          -5.0          -5.0          1.0\n",
       "0          -5.0          -4.0          1.0\n",
       "0          -5.0          -3.0          1.0\n",
       "0          -5.0          -2.0          1.0\n",
       "0          -5.0          -1.0          1.0"
      ]
     },
     "execution_count": 51,
     "metadata": {},
     "output_type": "execute_result"
    }
   ],
   "source": [
    "example_columns = ['gate_voltage','bias_voltage','conductance']\n",
    "example_data = pd.DataFrame(columns=example_columns)\n",
    "\n",
    "for gate in range(-5,6,1):\n",
    "    \n",
    "    for bias in range(-5,6,1):\n",
    "        \n",
    "        if math.fabs(bias) <= math.fabs(5 - math.fabs(gate)):\n",
    "            to_insert = pd.DataFrame(np.array([[gate,bias,0]]),\n",
    "                                        columns=example_columns)\n",
    "        else:\n",
    "            to_insert = pd.DataFrame(np.array([[gate,bias,1]]),\n",
    "                                        columns=example_columns)\n",
    "            \n",
    "        example_data = example_data.append(to_insert)\n",
    "        \n",
    "example_data.head()"
   ]
  },
  {
   "cell_type": "markdown",
   "metadata": {},
   "source": [
    "I need to convert this into a form that the heatmap will take. This requires *pivoting* a table.\n",
    "\n",
    "N.b. This is equivalent to converting three columns of data into an xyz matrix in OriginPro."
   ]
  },
  {
   "cell_type": "code",
   "execution_count": 52,
   "metadata": {
    "collapsed": false
   },
   "outputs": [
    {
     "data": {
      "text/html": [
       "<div>\n",
       "<table border=\"1\" class=\"dataframe\">\n",
       "  <thead>\n",
       "    <tr style=\"text-align: right;\">\n",
       "      <th>bias_voltage</th>\n",
       "      <th>-5.0</th>\n",
       "      <th>-4.0</th>\n",
       "      <th>-3.0</th>\n",
       "      <th>-2.0</th>\n",
       "      <th>-1.0</th>\n",
       "      <th>0.0</th>\n",
       "      <th>1.0</th>\n",
       "      <th>2.0</th>\n",
       "      <th>3.0</th>\n",
       "      <th>4.0</th>\n",
       "      <th>5.0</th>\n",
       "    </tr>\n",
       "    <tr>\n",
       "      <th>gate_voltage</th>\n",
       "      <th></th>\n",
       "      <th></th>\n",
       "      <th></th>\n",
       "      <th></th>\n",
       "      <th></th>\n",
       "      <th></th>\n",
       "      <th></th>\n",
       "      <th></th>\n",
       "      <th></th>\n",
       "      <th></th>\n",
       "      <th></th>\n",
       "    </tr>\n",
       "  </thead>\n",
       "  <tbody>\n",
       "    <tr>\n",
       "      <th>-5.0</th>\n",
       "      <td>1.0</td>\n",
       "      <td>1.0</td>\n",
       "      <td>1.0</td>\n",
       "      <td>1.0</td>\n",
       "      <td>1.0</td>\n",
       "      <td>0.0</td>\n",
       "      <td>1.0</td>\n",
       "      <td>1.0</td>\n",
       "      <td>1.0</td>\n",
       "      <td>1.0</td>\n",
       "      <td>1.0</td>\n",
       "    </tr>\n",
       "    <tr>\n",
       "      <th>-4.0</th>\n",
       "      <td>1.0</td>\n",
       "      <td>1.0</td>\n",
       "      <td>1.0</td>\n",
       "      <td>1.0</td>\n",
       "      <td>0.0</td>\n",
       "      <td>0.0</td>\n",
       "      <td>0.0</td>\n",
       "      <td>1.0</td>\n",
       "      <td>1.0</td>\n",
       "      <td>1.0</td>\n",
       "      <td>1.0</td>\n",
       "    </tr>\n",
       "    <tr>\n",
       "      <th>-3.0</th>\n",
       "      <td>1.0</td>\n",
       "      <td>1.0</td>\n",
       "      <td>1.0</td>\n",
       "      <td>0.0</td>\n",
       "      <td>0.0</td>\n",
       "      <td>0.0</td>\n",
       "      <td>0.0</td>\n",
       "      <td>0.0</td>\n",
       "      <td>1.0</td>\n",
       "      <td>1.0</td>\n",
       "      <td>1.0</td>\n",
       "    </tr>\n",
       "    <tr>\n",
       "      <th>-2.0</th>\n",
       "      <td>1.0</td>\n",
       "      <td>1.0</td>\n",
       "      <td>0.0</td>\n",
       "      <td>0.0</td>\n",
       "      <td>0.0</td>\n",
       "      <td>0.0</td>\n",
       "      <td>0.0</td>\n",
       "      <td>0.0</td>\n",
       "      <td>0.0</td>\n",
       "      <td>1.0</td>\n",
       "      <td>1.0</td>\n",
       "    </tr>\n",
       "    <tr>\n",
       "      <th>-1.0</th>\n",
       "      <td>1.0</td>\n",
       "      <td>0.0</td>\n",
       "      <td>0.0</td>\n",
       "      <td>0.0</td>\n",
       "      <td>0.0</td>\n",
       "      <td>0.0</td>\n",
       "      <td>0.0</td>\n",
       "      <td>0.0</td>\n",
       "      <td>0.0</td>\n",
       "      <td>0.0</td>\n",
       "      <td>1.0</td>\n",
       "    </tr>\n",
       "  </tbody>\n",
       "</table>\n",
       "</div>"
      ],
      "text/plain": [
       "bias_voltage  -5.0  -4.0  -3.0  -2.0  -1.0   0.0   1.0   2.0   3.0   4.0   5.0\n",
       "gate_voltage                                                                  \n",
       "-5.0           1.0   1.0   1.0   1.0   1.0   0.0   1.0   1.0   1.0   1.0   1.0\n",
       "-4.0           1.0   1.0   1.0   1.0   0.0   0.0   0.0   1.0   1.0   1.0   1.0\n",
       "-3.0           1.0   1.0   1.0   0.0   0.0   0.0   0.0   0.0   1.0   1.0   1.0\n",
       "-2.0           1.0   1.0   0.0   0.0   0.0   0.0   0.0   0.0   0.0   1.0   1.0\n",
       "-1.0           1.0   0.0   0.0   0.0   0.0   0.0   0.0   0.0   0.0   0.0   1.0"
      ]
     },
     "execution_count": 52,
     "metadata": {},
     "output_type": "execute_result"
    }
   ],
   "source": [
    "example_data_pivoted = example_data.pivot(index='gate_voltage',\n",
    "                                            columns='bias_voltage',\n",
    "                                            values='conductance')\n",
    "example_data_pivoted.head()"
   ]
  },
  {
   "cell_type": "markdown",
   "metadata": {},
   "source": [
    "This should create a diamond. Now I'll try to create a heatmap."
   ]
  },
  {
   "cell_type": "code",
   "execution_count": 34,
   "metadata": {
    "collapsed": false
   },
   "outputs": [
    {
     "name": "stderr",
     "output_type": "stream",
     "text": [
      "C:\\Anaconda3\\lib\\site-packages\\matplotlib\\__init__.py:872: UserWarning: axes.color_cycle is deprecated and replaced with axes.prop_cycle; please use the latter.\n",
      "  warnings.warn(self.msg_depr % (key, alt_key))\n"
     ]
    },
    {
     "data": {
      "text/plain": [
       "<matplotlib.text.Text at 0xe018358>"
      ]
     },
     "execution_count": 34,
     "metadata": {},
     "output_type": "execute_result"
    },
    {
     "data": {
      "image/png": "[encoded data removed]",
      "text/plain": [
       "<matplotlib.figure.Figure at 0xf3f8b70>"
      ]
     },
     "metadata": {},
     "output_type": "display_data"
    }
   ],
   "source": [
    "plt.figure(figsize=(10,10))\n",
    "\n",
    "sns.set(font_scale=2)\n",
    "sns.heatmap(example_data_pivoted,\n",
    "            cbar_kws={'label':'Conductance ($2e^2/h$)'})\n",
    "\n",
    "plt.ylabel('Gate Voltage (V)')\n",
    "plt.yticks(rotation='horizontal')\n",
    "\n",
    "plt.xlabel('Bias Voltage (mV)')"
   ]
  },
  {
   "cell_type": "markdown",
   "metadata": {},
   "source": [
    "This is actually one of the more advanced techniques for creating plots, but 2D plots are common enough in our research group that it is worth walking through how one would actually create the 2D map. There are some parameters that you ought to tune, like the color scheme used or the font sizes.\n",
    "\n",
    "# Mapping out data point-by-point\n",
    "\n",
    "To mimic functionality like in LabVIEW, a call can be made to the plots after the appendage of a record. There is already a lot of slowdown between plot calls, so be careful that you plot only what you need.\n",
    "\n",
    "Here is an example of a 2D sweep where you might want to plot each bias sweep."
   ]
  },
  {
   "cell_type": "code",
   "execution_count": 3,
   "metadata": {
    "collapsed": false
   },
   "outputs": [
    {
     "data": {
      "image/png": "[encoded data removed]",
      "text/plain": [
       "<matplotlib.figure.Figure at 0xba53ac8>"
      ]
     },
     "metadata": {},
     "output_type": "display_data"
    },
    {
     "data": {
      "image/png": "[encoded data removed]",
      "text/plain": [
       "<matplotlib.figure.Figure at 0xba53ac8>"
      ]
     },
     "metadata": {},
     "output_type": "display_data"
    }
   ],
   "source": [
    "import time\n",
    "from IPython import display\n",
    "\n",
    "example_columns = ['gate_voltage','bias_voltage','conductance']\n",
    "example_data = pd.DataFrame(columns=example_columns)\n",
    "\n",
    "fig = plt.figure()\n",
    "ax1 = fig.add_subplot(111)\n",
    "\n",
    "for gate in range(-5,6,1):\n",
    "    \n",
    "    bias_sweep = pd.DataFrame(columns=example_columns)\n",
    "    \n",
    "    for bias in range(-5,6,1):\n",
    "        \n",
    "        if math.fabs(bias) <= math.fabs(5 - math.fabs(gate)):\n",
    "            to_insert = pd.DataFrame(np.array([[gate,bias,0]]),\n",
    "                                        columns=example_columns)\n",
    "        else:\n",
    "            to_insert = pd.DataFrame(np.array([[gate,bias,1]]),\n",
    "                                        columns=example_columns)\n",
    "            \n",
    "        example_data = example_data.append(to_insert)\n",
    "        bias_sweep = bias_sweep.append(to_insert)\n",
    "\n",
    "        ax1.clear()\n",
    "        \n",
    "        plt.subplot(111)\n",
    "        plt.xlim(-6,6)\n",
    "        plt.ylim(-0.25,1.25)\n",
    "        plt.xlabel('Voltage Bias (mV)')\n",
    "        plt.ylabel('Conductance ($2e^2/h$)')\n",
    "        \n",
    "        plt.plot(bias_sweep.bias_voltage, bias_sweep.conductance)\n",
    "\n",
    "        display.clear_output(wait=True)\n",
    "        display.display(plt.gcf())"
   ]
  },
  {
   "cell_type": "markdown",
   "metadata": {},
   "source": [
    "After this, it might be cool to try and setup a heatmap of conductance as a function of bias and gate voltage, though this part still needs some testing."
   ]
  }
 ],
 "metadata": {
  "kernelspec": {
   "display_name": "Python 3",
   "language": "python",
   "name": "python3"
  },
  "language_info": {
   "codemirror_mode": {
    "name": "ipython",
    "version": 3
   },
   "file_extension": ".py",
   "mimetype": "text/x-python",
   "name": "python",
   "nbconvert_exporter": "python",
   "pygments_lexer": "ipython3",
   "version": "3.4.4"
  }
 },
 "nbformat": 4,
 "nbformat_minor": 1
}
