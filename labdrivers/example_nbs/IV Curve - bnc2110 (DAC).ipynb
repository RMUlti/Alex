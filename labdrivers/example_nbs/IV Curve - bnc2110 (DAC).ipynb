{
 "cells": [
  {
   "cell_type": "code",
   "execution_count": 1,
   "metadata": {
    "collapsed": true
   },
   "outputs": [],
   "source": [
    "# required to make plots show up\n",
    "%matplotlib inline"
   ]
  },
  {
   "cell_type": "code",
   "execution_count": 2,
   "metadata": {
    "collapsed": false
   },
   "outputs": [],
   "source": [
    "import numpy as np\n",
    "import matplotlib.pyplot as plt\n",
    "from labdrivers.ni import bnc2110"
   ]
  },
  {
   "cell_type": "code",
   "execution_count": 5,
   "metadata": {
    "collapsed": false
   },
   "outputs": [
    {
     "data": {
      "text/plain": [
       "<matplotlib.text.Text at 0xafa4e48>"
      ]
     },
     "execution_count": 5,
     "metadata": {},
     "output_type": "execute_result"
    },
    {
     "data": {
      "image/png": "[encoded data removed]",
      "text/plain": [
       "<matplotlib.figure.Figure at 0x8e64160>"
      ]
     },
     "metadata": {},
     "output_type": "display_data"
    }
   ],
   "source": [
    "dac = bnc2110('Dev1')\n",
    "\n",
    "# define some parameters\n",
    "v_min = -10E-3\n",
    "v_max = 30E-3\n",
    "v_step = 1E-3\n",
    "\n",
    "voltages = np.arange(v_min, v_max, v_step)\n",
    "readings = []\n",
    "\n",
    "for volt in voltages:\n",
    "\n",
    "    # set the DAC output\n",
    "    dac.setVoltageOutput('ao1', volt)\n",
    "    \n",
    "    # take a measurement\n",
    "    data_pt = dac.readCurrentInput('ai1')\n",
    "    \n",
    "    readings.append(data_pt)\n",
    "    \n",
    "# plot the results\n",
    "plt.plot(voltages, readings)\n",
    "plt.xlabel('Volts')\n",
    "plt.ylabel('Ohms')"
   ]
  }
 ],
 "metadata": {
  "kernelspec": {
   "display_name": "Python 3",
   "language": "python",
   "name": "python3"
  },
  "language_info": {
   "codemirror_mode": {
    "name": "ipython",
    "version": 3
   },
   "file_extension": ".py",
   "mimetype": "text/x-python",
   "name": "python",
   "nbconvert_exporter": "python",
   "pygments_lexer": "ipython3",
   "version": "3.4.4"
  }
 },
 "nbformat": 4,
 "nbformat_minor": 0
}
