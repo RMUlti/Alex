{
 "cells": [
  {
   "cell_type": "markdown",
   "metadata": {},
   "source": [
    "# Importing drivers"
   ]
  },
  {
   "cell_type": "code",
   "execution_count": 1,
   "metadata": {},
   "outputs": [],
   "source": [
    "from labdrivers.ni import bnc2110\n",
    "from labdrivers.keithley import keithley2400\n",
    "from labdrivers.srs import sr830"
   ]
  },
  {
   "cell_type": "markdown",
   "metadata": {},
   "source": [
    "# Object instantiation"
   ]
  },
  {
   "cell_type": "code",
   "execution_count": 9,
   "metadata": {},
   "outputs": [],
   "source": [
    "daq = bnc2110(device='Dev1')\n",
    "keithley = keithley2400(GPIBaddr=22)\n",
    "lockin = sr830(GPIBaddr=8)"
   ]
  },
  {
   "cell_type": "markdown",
   "metadata": {},
   "source": [
    "# Importing other useful libraries"
   ]
  },
  {
   "cell_type": "code",
   "execution_count": 4,
   "metadata": {},
   "outputs": [],
   "source": [
    "import pandas as pd\n",
    "import numpy as np\n",
    "import matplotlib.pyplot as plt\n",
    "import seaborn as sns\n",
    "%matplotlib inline"
   ]
  },
  {
   "cell_type": "markdown",
   "metadata": {},
   "source": [
    "# Setting up important constants"
   ]
  },
  {
   "cell_type": "code",
   "execution_count": 7,
   "metadata": {},
   "outputs": [],
   "source": [
    "quantum_conductance = 0.000077480917310 # in Siemens\n",
    "current_preamp_sensitivity = 10 ** -5\n",
    "ac_amplitude = 0.100"
   ]
  },
  {
   "cell_type": "markdown",
   "metadata": {},
   "source": [
    "# Setting up the SR830 lock-in amplifier"
   ]
  },
  {
   "cell_type": "code",
   "execution_count": 8,
   "metadata": {},
   "outputs": [],
   "source": [
    "lockin.setFrequency(freq=137.5)\n",
    "lockin.setInput(i=0)\n",
    "lockin.setAmplitude(level=ac_amplitude)\n",
    "lockin.setTimeConst(const_index=9)\n",
    "lockin.setSensitivity(sens_index=25)"
   ]
  },
  {
   "cell_type": "markdown",
   "metadata": {},
   "source": [
    "# Making a 2D sweep\n",
    "\n",
    "As a very simple example, this is just a sweep on a 20 kOhm resistor at room temperature."
   ]
  },
  {
   "cell_type": "code",
   "execution_count": null,
   "metadata": {},
   "outputs": [],
   "source": [
    "columns = ['gate_voltage','bias_voltage','dConductance']\n",
    "data = pd.DataFrame(columns=columns)\n",
    "\n",
    "for gate_voltage in range(5,1025,25):\n",
    "    \n",
    "    gate = gate_voltage / 100\n",
    "    keithley.setSourceDC(source='voltage', value=gate)\n",
    "    \n",
    "    for bias_voltage in range(-10,11,1):\n",
    "        \n",
    "        bias = bias_voltage / 10\n",
    "        daq.setVoltageOutput(channel='ao1', output=bias)\n",
    "        \n",
    "        dConductance = lockin.getSinglePoint(parameter=1)[0] * current_preamp_sensitivity / \\\n",
    "                        ac_amplitude\n",
    "        \n",
    "        new_record = pd.DataFrame(np.array([[gate,bias,dConductance]]),\n",
    "                                 columns=columns)\n",
    "        data = data.append(new_record)\n",
    "        \n",
    "        "
   ]
  },
  {
   "cell_type": "code",
   "execution_count": 22,
   "metadata": {
    "collapsed": true
   },
   "outputs": [],
   "source": [
    "data_pivoted = data.pivot(index='gate_voltage',\n",
    "                         columns='bias_voltage',\n",
    "                         values='dConductance')"
   ]
  },
  {
   "cell_type": "code",
   "execution_count": 23,
   "metadata": {},
   "outputs": [
    {
     "data": {
      "text/html": [
       "<div>\n",
       "<style scoped>\n",
       "    .dataframe tbody tr th:only-of-type {\n",
       "        vertical-align: middle;\n",
       "    }\n",
       "\n",
       "    .dataframe tbody tr th {\n",
       "        vertical-align: top;\n",
       "    }\n",
       "\n",
       "    .dataframe thead th {\n",
       "        text-align: right;\n",
       "    }\n",
       "</style>\n",
       "<table border=\"1\" class=\"dataframe\">\n",
       "  <thead>\n",
       "    <tr style=\"text-align: right;\">\n",
       "      <th>bias_voltage</th>\n",
       "      <th>-1.0</th>\n",
       "      <th>-0.9</th>\n",
       "      <th>-0.8</th>\n",
       "      <th>-0.7</th>\n",
       "      <th>-0.6</th>\n",
       "      <th>-0.5</th>\n",
       "      <th>-0.4</th>\n",
       "      <th>-0.3</th>\n",
       "      <th>-0.2</th>\n",
       "      <th>-0.1</th>\n",
       "      <th>...</th>\n",
       "      <th>0.1</th>\n",
       "      <th>0.2</th>\n",
       "      <th>0.3</th>\n",
       "      <th>0.4</th>\n",
       "      <th>0.5</th>\n",
       "      <th>0.6</th>\n",
       "      <th>0.7</th>\n",
       "      <th>0.8</th>\n",
       "      <th>0.9</th>\n",
       "      <th>1.0</th>\n",
       "    </tr>\n",
       "    <tr>\n",
       "      <th>gate_voltage</th>\n",
       "      <th></th>\n",
       "      <th></th>\n",
       "      <th></th>\n",
       "      <th></th>\n",
       "      <th></th>\n",
       "      <th></th>\n",
       "      <th></th>\n",
       "      <th></th>\n",
       "      <th></th>\n",
       "      <th></th>\n",
       "      <th></th>\n",
       "      <th></th>\n",
       "      <th></th>\n",
       "      <th></th>\n",
       "      <th></th>\n",
       "      <th></th>\n",
       "      <th></th>\n",
       "      <th></th>\n",
       "      <th></th>\n",
       "      <th></th>\n",
       "      <th></th>\n",
       "    </tr>\n",
       "  </thead>\n",
       "  <tbody>\n",
       "    <tr>\n",
       "      <th>0.00</th>\n",
       "      <td>0.000036</td>\n",
       "      <td>0.000036</td>\n",
       "      <td>0.000036</td>\n",
       "      <td>0.000036</td>\n",
       "      <td>0.000036</td>\n",
       "      <td>0.000036</td>\n",
       "      <td>0.000036</td>\n",
       "      <td>0.000036</td>\n",
       "      <td>0.000036</td>\n",
       "      <td>0.000036</td>\n",
       "      <td>...</td>\n",
       "      <td>0.000036</td>\n",
       "      <td>0.000036</td>\n",
       "      <td>0.000036</td>\n",
       "      <td>0.000036</td>\n",
       "      <td>0.000036</td>\n",
       "      <td>0.000036</td>\n",
       "      <td>0.000036</td>\n",
       "      <td>0.000036</td>\n",
       "      <td>0.000036</td>\n",
       "      <td>0.000036</td>\n",
       "    </tr>\n",
       "    <tr>\n",
       "      <th>0.25</th>\n",
       "      <td>0.000036</td>\n",
       "      <td>0.000036</td>\n",
       "      <td>0.000036</td>\n",
       "      <td>0.000036</td>\n",
       "      <td>0.000036</td>\n",
       "      <td>0.000036</td>\n",
       "      <td>0.000036</td>\n",
       "      <td>0.000036</td>\n",
       "      <td>0.000036</td>\n",
       "      <td>0.000036</td>\n",
       "      <td>...</td>\n",
       "      <td>0.000036</td>\n",
       "      <td>0.000036</td>\n",
       "      <td>0.000036</td>\n",
       "      <td>0.000036</td>\n",
       "      <td>0.000036</td>\n",
       "      <td>0.000036</td>\n",
       "      <td>0.000036</td>\n",
       "      <td>0.000036</td>\n",
       "      <td>0.000036</td>\n",
       "      <td>0.000036</td>\n",
       "    </tr>\n",
       "    <tr>\n",
       "      <th>0.50</th>\n",
       "      <td>0.000036</td>\n",
       "      <td>0.000036</td>\n",
       "      <td>0.000036</td>\n",
       "      <td>0.000036</td>\n",
       "      <td>0.000036</td>\n",
       "      <td>0.000036</td>\n",
       "      <td>0.000036</td>\n",
       "      <td>0.000036</td>\n",
       "      <td>0.000036</td>\n",
       "      <td>0.000036</td>\n",
       "      <td>...</td>\n",
       "      <td>0.000036</td>\n",
       "      <td>0.000036</td>\n",
       "      <td>0.000036</td>\n",
       "      <td>0.000036</td>\n",
       "      <td>0.000036</td>\n",
       "      <td>0.000036</td>\n",
       "      <td>0.000036</td>\n",
       "      <td>0.000036</td>\n",
       "      <td>0.000036</td>\n",
       "      <td>0.000036</td>\n",
       "    </tr>\n",
       "    <tr>\n",
       "      <th>0.75</th>\n",
       "      <td>0.000036</td>\n",
       "      <td>0.000036</td>\n",
       "      <td>0.000036</td>\n",
       "      <td>0.000036</td>\n",
       "      <td>0.000036</td>\n",
       "      <td>0.000036</td>\n",
       "      <td>0.000036</td>\n",
       "      <td>0.000036</td>\n",
       "      <td>0.000036</td>\n",
       "      <td>0.000036</td>\n",
       "      <td>...</td>\n",
       "      <td>0.000036</td>\n",
       "      <td>0.000036</td>\n",
       "      <td>0.000036</td>\n",
       "      <td>0.000036</td>\n",
       "      <td>0.000036</td>\n",
       "      <td>0.000036</td>\n",
       "      <td>0.000036</td>\n",
       "      <td>0.000036</td>\n",
       "      <td>0.000036</td>\n",
       "      <td>0.000036</td>\n",
       "    </tr>\n",
       "    <tr>\n",
       "      <th>1.00</th>\n",
       "      <td>0.000036</td>\n",
       "      <td>0.000036</td>\n",
       "      <td>0.000036</td>\n",
       "      <td>0.000036</td>\n",
       "      <td>0.000036</td>\n",
       "      <td>0.000036</td>\n",
       "      <td>0.000036</td>\n",
       "      <td>0.000036</td>\n",
       "      <td>0.000036</td>\n",
       "      <td>0.000036</td>\n",
       "      <td>...</td>\n",
       "      <td>0.000036</td>\n",
       "      <td>0.000036</td>\n",
       "      <td>0.000036</td>\n",
       "      <td>0.000036</td>\n",
       "      <td>0.000036</td>\n",
       "      <td>0.000036</td>\n",
       "      <td>0.000036</td>\n",
       "      <td>0.000036</td>\n",
       "      <td>0.000036</td>\n",
       "      <td>0.000036</td>\n",
       "    </tr>\n",
       "  </tbody>\n",
       "</table>\n",
       "<p>5 rows × 21 columns</p>\n",
       "</div>"
      ],
      "text/plain": [
       "bias_voltage      -1.0      -0.9      -0.8      -0.7      -0.6      -0.5  \\\n",
       "gate_voltage                                                               \n",
       "0.00          0.000036  0.000036  0.000036  0.000036  0.000036  0.000036   \n",
       "0.25          0.000036  0.000036  0.000036  0.000036  0.000036  0.000036   \n",
       "0.50          0.000036  0.000036  0.000036  0.000036  0.000036  0.000036   \n",
       "0.75          0.000036  0.000036  0.000036  0.000036  0.000036  0.000036   \n",
       "1.00          0.000036  0.000036  0.000036  0.000036  0.000036  0.000036   \n",
       "\n",
       "bias_voltage      -0.4      -0.3      -0.2      -0.1    ...          0.1  \\\n",
       "gate_voltage                                            ...                \n",
       "0.00          0.000036  0.000036  0.000036  0.000036    ...     0.000036   \n",
       "0.25          0.000036  0.000036  0.000036  0.000036    ...     0.000036   \n",
       "0.50          0.000036  0.000036  0.000036  0.000036    ...     0.000036   \n",
       "0.75          0.000036  0.000036  0.000036  0.000036    ...     0.000036   \n",
       "1.00          0.000036  0.000036  0.000036  0.000036    ...     0.000036   \n",
       "\n",
       "bias_voltage       0.2       0.3       0.4       0.5       0.6       0.7  \\\n",
       "gate_voltage                                                               \n",
       "0.00          0.000036  0.000036  0.000036  0.000036  0.000036  0.000036   \n",
       "0.25          0.000036  0.000036  0.000036  0.000036  0.000036  0.000036   \n",
       "0.50          0.000036  0.000036  0.000036  0.000036  0.000036  0.000036   \n",
       "0.75          0.000036  0.000036  0.000036  0.000036  0.000036  0.000036   \n",
       "1.00          0.000036  0.000036  0.000036  0.000036  0.000036  0.000036   \n",
       "\n",
       "bias_voltage       0.8       0.9       1.0  \n",
       "gate_voltage                                \n",
       "0.00          0.000036  0.000036  0.000036  \n",
       "0.25          0.000036  0.000036  0.000036  \n",
       "0.50          0.000036  0.000036  0.000036  \n",
       "0.75          0.000036  0.000036  0.000036  \n",
       "1.00          0.000036  0.000036  0.000036  \n",
       "\n",
       "[5 rows x 21 columns]"
      ]
     },
     "execution_count": 23,
     "metadata": {},
     "output_type": "execute_result"
    }
   ],
   "source": [
    "data_pivoted.head()"
   ]
  },
  {
   "cell_type": "markdown",
   "metadata": {},
   "source": [
    "The number here is a bit off from what you are supposed to expect for a 20 kOhm resistor, but otherwise this does exactly what we expect in terms of outputting data."
   ]
  }
 ],
 "metadata": {
  "kernelspec": {
   "display_name": "Python 3",
   "language": "python",
   "name": "python3"
  },
  "language_info": {
   "codemirror_mode": {
    "name": "ipython",
    "version": 3
   },
   "file_extension": ".py",
   "mimetype": "text/x-python",
   "name": "python",
   "nbconvert_exporter": "python",
   "pygments_lexer": "ipython3",
   "version": "3.6.4"
  }
 },
 "nbformat": 4,
 "nbformat_minor": 2
}
