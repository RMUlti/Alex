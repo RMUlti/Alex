{
 "cells": [
  {
   "cell_type": "code",
   "execution_count": null,
   "metadata": {
    "collapsed": true
   },
   "outputs": [],
   "source": [
    "# required to make plots show up\n",
    "%matplotlib inline"
   ]
  },
  {
   "cell_type": "code",
   "execution_count": null,
   "metadata": {
    "collapsed": true
   },
   "outputs": [],
   "source": [
    "import numpy as np\n",
    "import pandas as pd\n",
    "import matplotlib.pyplot as plt\n",
    "\n",
    "from labdrivers.ni import bnc2110\n",
    "from labdrivers.srs import sr830\n",
    "from labdrivers.keithley import keithley2400"
   ]
  },
  {
   "cell_type": "code",
   "execution_count": null,
   "metadata": {
    "collapsed": true
   },
   "outputs": [],
   "source": [
    "# define some parameters\n",
    "vgate_min = 20\n",
    "vgate_max = 50\n",
    "vgate_step = 0.5\n",
    "sleep_time = 0.05\n",
    "\n",
    "vbias_min = -10E-3\n",
    "vbias_max = 10E-3\n",
    "vbias_step = 0.5E-3\n",
    "\n",
    "gate_lines = np.arange(vgate_min, vgate_max, vgate_step)\n",
    "bias_lines = np.arange(vbias_min, vbias_max, vbias_step)\n",
    "\n",
    "# make data frames w vbias as columns, vg as index\n",
    "lockin_x_2d = pd.DataFrame(columns=bias_lines, index=gate_lines)\n",
    "lockin_y_2d = pd.DataFrame(columns=bias_lines, index=gate_lines)\n",
    "\n",
    "# for temporarily storing each 1d gate sweep\n",
    "lockin_x = []\n",
    "lockin_y = []\n",
    "\n",
    "for vbias in bias_lines:\n",
    "    \n",
    "    # connect to the instruments\n",
    "    dac = bnc2110('Dev1')\n",
    "    lockin = sr830(8)\n",
    "    gate_keithley = keithley2400(20)\n",
    "\n",
    "    # configure the gate keithley\n",
    "    gate_keithley.setMeasure('current')\n",
    "    gate_keithley.setSourceDC('voltage')\n",
    "    gate_keithley.setCompliance('current', 0.5E-6)\n",
    "\n",
    "    # turn the outputs on\n",
    "    gate_keithley.rampOutputOn(vgate_min, 0.5)\n",
    "    time.sleep(3)\n",
    "\n",
    "    # set s-d bias to vbias\n",
    "    dac.setVoltageOutput('ao1', vbias)\n",
    "    \n",
    "    lockin_tuples = []\n",
    "\n",
    "    # do the gate sweep\n",
    "    for volts in gate_lines:\n",
    "\n",
    "        # set the keithley output, then take a measurement\n",
    "        gate_keithley.setSourceDC('voltage', volts)\n",
    "        lockin_tuples.append(lockin.getSnapshot(1,2))\n",
    "        \n",
    "        # sleep so that the gate doesn't sweep too fast\n",
    "        time.sleep(sleep_time)\n",
    "\n",
    "    # unpack [(x1, y1), (x2, y2), (x3, y3), ...] \n",
    "    # to [x1, x2, x3, ...] and [y1, y2, y3, ...]\n",
    "    lockin_x, lockin_y = zip(*lockin_tuples)\n",
    "        \n",
    "    lockin_x_2d[vbias] = lockin_x\n",
    "    lockin_y_2d[vbias] = lockin_y\n",
    "\n",
    "    # to keep track of where we are in the scan\n",
    "    print('V_bias: {:.3e}'.format(vbias))\n",
    "    \n",
    "    # turn the keithley output off\n",
    "    gate_keithley.rampOutputOff(vgate_max, 0.5)\n",
    "\n",
    "# save the data to file\n",
    "lockin_x_2d.to_csv('path/to/save x', index=True)\n",
    "lockin_y_2d.to_csv('path/to/save y', index=True)"
   ]
  }
 ],
 "metadata": {
  "kernelspec": {
   "display_name": "Python 3",
   "language": "python",
   "name": "python3"
  },
  "language_info": {
   "codemirror_mode": {
    "name": "ipython",
    "version": 3
   },
   "file_extension": ".py",
   "mimetype": "text/x-python",
   "name": "python",
   "nbconvert_exporter": "python",
   "pygments_lexer": "ipython3",
   "version": "3.4.4"
  }
 },
 "nbformat": 4,
 "nbformat_minor": 0
}
